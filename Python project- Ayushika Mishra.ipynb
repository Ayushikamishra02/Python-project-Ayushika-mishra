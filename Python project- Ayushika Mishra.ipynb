{
 "cells": [
  {
   "cell_type": "code",
   "execution_count": 3,
   "id": "856a78da",
   "metadata": {},
   "outputs": [
    {
     "ename": "IndentationError",
     "evalue": "expected an indented block after 'for' statement on line 25 (3177300672.py, line 26)",
     "output_type": "error",
     "traceback": [
      "\u001b[1;36m  Cell \u001b[1;32mIn[3], line 26\u001b[1;36m\u001b[0m\n\u001b[1;33m    if student.roll_no == roll_no:\u001b[0m\n\u001b[1;37m    ^\u001b[0m\n\u001b[1;31mIndentationError\u001b[0m\u001b[1;31m:\u001b[0m expected an indented block after 'for' statement on line 25\n"
     ]
    }
   ],
   "source": [
    "# STUDENT DATA MANAGEMENT PROJECT.\n",
    "\n",
    "class Student:\n",
    "    def __init__(self, name, roll_no, marks1, marks2):\n",
    "        self.name = name\n",
    "        self.roll_no = roll_no\n",
    "        self.marks1 = marks1\n",
    "        self.marks2 = marks2\n",
    "        \n",
    "    def display(self):  #The display function is used to display the students information.\n",
    "        print(f\"Name: {self.name}\")\n",
    "        print(f\"Roll No: {self.roll_no}\")\n",
    "        print(f\"Marks 1: {self.marks1}\")\n",
    "        print(f\"Marks 2: {self.marks2}\")\n",
    "        \n",
    "    \n",
    "    def search(students, roll_no):  #Search function searches for a student with the given roll number and returns the student object if found, or None if not found.\n",
    "        for student in students:\n",
    "            if student.roll_no == roll_no:\n",
    "                return student\n",
    "        return None\n",
    "\n",
    "    \n",
    "    def delete(students, roll_no):   #Delete function searches for a student with the given roll number, removes the student from the list if found, and returns True. If the student is not found, it returns False.\n",
    "            for student in students:\n",
    "            if student.roll_no == roll_no:\n",
    "                students.remove(student)\n",
    "                return True\n",
    "            return False   \n",
    "\n",
    "    def update(self, name=None, roll_no=None, marks1=None, marks2=None):\n",
    "        if name:\n",
    "            self.name = name\n",
    "        if roll_no:\n",
    "            self.roll_no = roll_no\n",
    "        if marks1:\n",
    "            self.marks1 = marks1\n",
    "        if marks2:\n",
    "            self.marks2 = marks2  #Update function takes optional parameters for name, roll_no, marks1, and marks2, and updates the corresponding attributes if the parameters are provided.\n",
    "            \n",
    "# Creating student objects\n",
    "students = [\n",
    "    Student('Ayushika', 'A001', 80, 85),\n",
    "    Student('ujjwal', 'A002', 90, 95),\n",
    "    Student('Shreya', 'A003', 75, 80),\n",
    "    Student('shree', 'A004', 40, 67),\n",
    "    Student('Nikhil', 'A005', 50, 46),\n",
    "]\n",
    "\n",
    "for student in students:\n",
    "    student.display()\n",
    "\n",
    "# Searching for a student\n",
    "roll_no = 'A002'\n",
    "found_student = Student.search(students, roll_no)\n",
    "if found_student:\n",
    "    print(f\"Student with roll number {roll_no} found:\")\n",
    "    found_student.display()\n",
    "else:\n",
    "    print(f\"Student with roll number {roll_no} not found.\")\n",
    "\n",
    "# Deleting a student\n",
    "roll_no = 'A003'\n",
    "deleted = Student.delete(students, roll_no)\n",
    "if deleted:\n",
    "    print(f\"Student with roll number {roll_no} deleted.\")\n",
    "else:\n",
    "    print(f\"Student with roll number {roll_no} not found.\")\n",
    "\n",
    "# Updating a student\n",
    "roll_no = 'A001'\n",
    "student = Student.search(students, roll_no)\n",
    "if student:\n",
    "    student.update(name='Ayushika', marks1=90)\n",
    "    print(f\"Updated details of student with roll number {roll_no}:\")\n",
    "    student.display()\n",
    "else:\n",
    "    print(f\"Student with roll number {roll_no} not found.\")\n",
    "  "
   ]
  },
  {
   "cell_type": "code",
   "execution_count": null,
   "id": "3491d873",
   "metadata": {},
   "outputs": [],
   "source": [
    "   "
   ]
  },
  {
   "cell_type": "code",
   "execution_count": null,
   "id": "4d2a28ec",
   "metadata": {},
   "outputs": [],
   "source": [
    "   "
   ]
  },
  {
   "cell_type": "code",
   "execution_count": null,
   "id": "128852a6",
   "metadata": {},
   "outputs": [],
   "source": [
    "    "
   ]
  },
  {
   "cell_type": "code",
   "execution_count": null,
   "id": "d25c439b",
   "metadata": {},
   "outputs": [],
   "source": [
    "     "
   ]
  },
  {
   "cell_type": "code",
   "execution_count": null,
   "id": "8a1b1439",
   "metadata": {},
   "outputs": [],
   "source": []
  },
  {
   "cell_type": "code",
   "execution_count": null,
   "id": "cc334b4c",
   "metadata": {},
   "outputs": [],
   "source": [
    "\n",
    "     "
   ]
  },
  {
   "cell_type": "code",
   "execution_count": null,
   "id": "50f1891b",
   "metadata": {},
   "outputs": [],
   "source": [
    " "
   ]
  },
  {
   "cell_type": "code",
   "execution_count": null,
   "id": "7c3dbd80",
   "metadata": {},
   "outputs": [],
   "source": [
    " "
   ]
  },
  {
   "cell_type": "code",
   "execution_count": null,
   "id": "dcd3c559",
   "metadata": {},
   "outputs": [],
   "source": [
    " "
   ]
  },
  {
   "cell_type": "code",
   "execution_count": null,
   "id": "76c7f6d8",
   "metadata": {},
   "outputs": [],
   "source": [
    " "
   ]
  },
  {
   "cell_type": "code",
   "execution_count": null,
   "id": "00fae39f",
   "metadata": {},
   "outputs": [],
   "source": []
  },
  {
   "cell_type": "code",
   "execution_count": null,
   "id": "762f6e91",
   "metadata": {},
   "outputs": [],
   "source": []
  }
 ],
 "metadata": {
  "kernelspec": {
   "display_name": "Python 3 (ipykernel)",
   "language": "python",
   "name": "python3"
  },
  "language_info": {
   "codemirror_mode": {
    "name": "ipython",
    "version": 3
   },
   "file_extension": ".py",
   "mimetype": "text/x-python",
   "name": "python",
   "nbconvert_exporter": "python",
   "pygments_lexer": "ipython3",
   "version": "3.10.9"
  }
 },
 "nbformat": 4,
 "nbformat_minor": 5
}
